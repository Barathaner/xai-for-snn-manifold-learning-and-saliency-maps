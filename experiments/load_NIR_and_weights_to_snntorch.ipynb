{
 "cells": [
  {
   "cell_type": "code",
   "execution_count": 1,
   "metadata": {},
   "outputs": [],
   "source": [
    "# 🔧 Setup: Imports & Pfade\n",
    "import sys\n",
    "import os\n",
    "sys.path.append(\"/home/karl-/liquidstatemachines\")\n",
    "\n",
    "import torch\n",
    "import tonic.transforms as transforms\n",
    "from data.dataloader import load_filtered_shd_dataloader\n",
    "from models.sffnn_batched import Net\n"
   ]
  },
  {
   "cell_type": "code",
   "execution_count": 2,
   "metadata": {},
   "outputs": [
    {
     "name": "stdout",
     "output_type": "stream",
     "text": [
      "Using device: cuda\n"
     ]
    }
   ],
   "source": [
    "# 🖥️ Device konfigurieren\n",
    "device = torch.device(\"cuda\" if torch.cuda.is_available() else \"cpu\")\n",
    "print(f\"Using device: {device}\")\n"
   ]
  },
  {
   "cell_type": "code",
   "execution_count": 3,
   "metadata": {},
   "outputs": [],
   "source": [
    "# 🔄 Testdaten vorbereiten\n",
    "transform = transforms.Compose([\n",
    "    transforms.Downsample(spatial_factor=0.5),\n",
    "    transforms.ToFrame(sensor_size=(350,1,1), n_time_bins=250)\n",
    "])\n",
    "\n",
    "test_dataloader = load_filtered_shd_dataloader(label_range=range(10), transform=transform, train=False, batch_size=1)\n"
   ]
  },
  {
   "cell_type": "code",
   "execution_count": 4,
   "metadata": {},
   "outputs": [
    {
     "name": "stdout",
     "output_type": "stream",
     "text": [
      "replace rnn subgraph with nirgraph\n"
     ]
    }
   ],
   "source": [
    "from snntorch.import_nir import import_from_nir\n",
    "import nir\n",
    "# read from file\n",
    "nir_network=nir.read(\"../model_export/my_model.nir\")\n",
    "snntorch_network = import_from_nir(nir_network)"
   ]
  },
  {
   "cell_type": "code",
   "execution_count": 5,
   "metadata": {},
   "outputs": [],
   "source": [
    "from models.sffnn_batched import Net\n",
    "\n",
    "model = Net(num_inputs=350, num_hidden=1000, num_outputs=10, num_steps=250, beta=0.9)"
   ]
  },
  {
   "cell_type": "code",
   "execution_count": 6,
   "metadata": {},
   "outputs": [],
   "source": [
    "nir_state_dict = dict(snntorch_network.state_dict())"
   ]
  },
  {
   "cell_type": "code",
   "execution_count": 7,
   "metadata": {},
   "outputs": [
    {
     "data": {
      "text/plain": [
       "<All keys matched successfully>"
      ]
     },
     "execution_count": 7,
     "metadata": {},
     "output_type": "execute_result"
    }
   ],
   "source": [
    "model.load_state_dict(nir_state_dict, strict=False)"
   ]
  },
  {
   "cell_type": "code",
   "execution_count": 8,
   "metadata": {},
   "outputs": [
    {
     "name": "stdout",
     "output_type": "stream",
     "text": [
      "torch.Size([1, 250, 350])\n",
      "🔍 Predicted: tensor([4], device='cuda:0'), ✅ Ground Truth: tensor([4], device='cuda:0')\n",
      "Accuracy:1.0\n"
     ]
    }
   ],
   "source": [
    "model.to(device)\n",
    "model.eval()\n",
    "# 🧪 Eine Vorhersage machen\n",
    "with torch.no_grad():\n",
    "    for events, labels in test_dataloader:\n",
    "        events = events.squeeze(2).to(device).float()  # [1, T, 1, 350] → [1, T, 350]\n",
    "        labels = labels.to(device)\n",
    "        print(events.shape)\n",
    "        \n",
    "        spk_rec, _ = model(events)\n",
    "        spike_sums = spk_rec.sum(dim=1)  # → [B, num_outputs]\n",
    "        pred = torch.argmax(spike_sums, dim=1)\n",
    "\n",
    "        print(f\"🔍 Predicted: {pred.item()}, ✅ Ground Truth: {labels.item()}\")\n",
    "        accuracy = (pred == labels).sum().item() / len(labels)\n",
    "        print(f\"Accuracy:{accuracy}\")\n",
    "        break  # nur ein Sample testen\n"
   ]
  },
  {
   "cell_type": "code",
   "execution_count": null,
   "metadata": {},
   "outputs": [],
   "source": [
    "from utils.metrics import *\n",
    "model.to(device)\n",
    "print_full_dataloader_accuracy_batched(model,test_dataloader)"
   ]
  }
 ],
 "metadata": {
  "kernelspec": {
   "display_name": "Python karl2",
   "language": "python",
   "name": "karl2"
  },
  "language_info": {
   "codemirror_mode": {
    "name": "ipython",
    "version": 3
   },
   "file_extension": ".py",
   "mimetype": "text/x-python",
   "name": "python",
   "nbconvert_exporter": "python",
   "pygments_lexer": "ipython3",
   "version": "3.12.3"
  }
 },
 "nbformat": 4,
 "nbformat_minor": 2
}
