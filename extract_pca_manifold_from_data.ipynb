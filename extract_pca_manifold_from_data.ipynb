{
 "cells": [
  {
   "cell_type": "code",
   "execution_count": null,
   "id": "c20f3cfb",
   "metadata": {},
   "outputs": [
    {
     "ename": "IndexError",
     "evalue": "tuple index out of range",
     "output_type": "error",
     "traceback": [
      "\u001b[31m---------------------------------------------------------------------------\u001b[39m",
      "\u001b[31mIndexError\u001b[39m                                Traceback (most recent call last)",
      "\u001b[36mCell\u001b[39m\u001b[36m \u001b[39m\u001b[32mIn[24]\u001b[39m\u001b[32m, line 30\u001b[39m\n\u001b[32m     27\u001b[39m         \u001b[38;5;28;01mreturn\u001b[39;00m \u001b[38;5;28mself\u001b[39m.transform(events), label\n\u001b[32m     29\u001b[39m transformeddataset=TransformedDataset(subset, transform)\n\u001b[32m---> \u001b[39m\u001b[32m30\u001b[39m \u001b[43mtransformeddataset\u001b[49m\u001b[43m[\u001b[49m\u001b[32;43m0\u001b[39;49m\u001b[43m]\u001b[49m\n",
      "\u001b[36mCell\u001b[39m\u001b[36m \u001b[39m\u001b[32mIn[24]\u001b[39m\u001b[32m, line 27\u001b[39m, in \u001b[36mTransformedDataset.__getitem__\u001b[39m\u001b[34m(self, idx)\u001b[39m\n\u001b[32m     25\u001b[39m \u001b[38;5;28;01mdef\u001b[39;00m\u001b[38;5;250m \u001b[39m\u001b[34m__getitem__\u001b[39m(\u001b[38;5;28mself\u001b[39m, idx):\n\u001b[32m     26\u001b[39m     events, label = \u001b[38;5;28mself\u001b[39m.dataset[idx]\n\u001b[32m---> \u001b[39m\u001b[32m27\u001b[39m     \u001b[38;5;28;01mreturn\u001b[39;00m \u001b[38;5;28;43mself\u001b[39;49m\u001b[43m.\u001b[49m\u001b[43mtransform\u001b[49m\u001b[43m(\u001b[49m\u001b[43mevents\u001b[49m\u001b[43m)\u001b[49m, label\n",
      "\u001b[36mFile \u001b[39m\u001b[32m~/git/liquidstatemachines/venvtorch/lib/python3.12/site-packages/tonic/transforms.py:32\u001b[39m, in \u001b[36mCompose.__call__\u001b[39m\u001b[34m(self, events)\u001b[39m\n\u001b[32m     30\u001b[39m     \u001b[38;5;28;01mif\u001b[39;00m \u001b[38;5;28mlen\u001b[39m(events) == \u001b[32m0\u001b[39m:\n\u001b[32m     31\u001b[39m         \u001b[38;5;28;01mbreak\u001b[39;00m\n\u001b[32m---> \u001b[39m\u001b[32m32\u001b[39m     events = \u001b[43mt\u001b[49m\u001b[43m(\u001b[49m\u001b[43mevents\u001b[49m\u001b[43m)\u001b[49m\n\u001b[32m     33\u001b[39m \u001b[38;5;28;01mreturn\u001b[39;00m events\n",
      "\u001b[36mFile \u001b[39m\u001b[32m~/git/liquidstatemachines/venvtorch/lib/python3.12/site-packages/tonic/transforms.py:935\u001b[39m, in \u001b[36mToFrame.__call__\u001b[39m\u001b[34m(self, events)\u001b[39m\n\u001b[32m    932\u001b[39m         \u001b[38;5;28;01mraise\u001b[39;00m \u001b[38;5;167;01mValueError\u001b[39;00m(\u001b[33m\"\u001b[39m\u001b[33mNo slicing method specified.\u001b[39m\u001b[33m\"\u001b[39m)\n\u001b[32m    934\u001b[39m \u001b[38;5;28;01melse\u001b[39;00m:\n\u001b[32m--> \u001b[39m\u001b[32m935\u001b[39m     \u001b[38;5;28;01mreturn\u001b[39;00m \u001b[43mfunctional\u001b[49m\u001b[43m.\u001b[49m\u001b[43mto_frame_numpy\u001b[49m\u001b[43m(\u001b[49m\n\u001b[32m    936\u001b[39m \u001b[43m        \u001b[49m\u001b[43mevents\u001b[49m\u001b[43m=\u001b[49m\u001b[43mevents\u001b[49m\u001b[43m,\u001b[49m\n\u001b[32m    937\u001b[39m \u001b[43m        \u001b[49m\u001b[43msensor_size\u001b[49m\u001b[43m=\u001b[49m\u001b[38;5;28;43mself\u001b[39;49m\u001b[43m.\u001b[49m\u001b[43msensor_size\u001b[49m\u001b[43m,\u001b[49m\n\u001b[32m    938\u001b[39m \u001b[43m        \u001b[49m\u001b[43mtime_window\u001b[49m\u001b[43m=\u001b[49m\u001b[38;5;28;43mself\u001b[39;49m\u001b[43m.\u001b[49m\u001b[43mtime_window\u001b[49m\u001b[43m,\u001b[49m\n\u001b[32m    939\u001b[39m \u001b[43m        \u001b[49m\u001b[43mevent_count\u001b[49m\u001b[43m=\u001b[49m\u001b[38;5;28;43mself\u001b[39;49m\u001b[43m.\u001b[49m\u001b[43mevent_count\u001b[49m\u001b[43m,\u001b[49m\n\u001b[32m    940\u001b[39m \u001b[43m        \u001b[49m\u001b[43mn_time_bins\u001b[49m\u001b[43m=\u001b[49m\u001b[38;5;28;43mself\u001b[39;49m\u001b[43m.\u001b[49m\u001b[43mn_time_bins\u001b[49m\u001b[43m,\u001b[49m\n\u001b[32m    941\u001b[39m \u001b[43m        \u001b[49m\u001b[43mn_event_bins\u001b[49m\u001b[43m=\u001b[49m\u001b[38;5;28;43mself\u001b[39;49m\u001b[43m.\u001b[49m\u001b[43mn_event_bins\u001b[49m\u001b[43m,\u001b[49m\n\u001b[32m    942\u001b[39m \u001b[43m        \u001b[49m\u001b[43moverlap\u001b[49m\u001b[43m=\u001b[49m\u001b[38;5;28;43mself\u001b[39;49m\u001b[43m.\u001b[49m\u001b[43moverlap\u001b[49m\u001b[43m,\u001b[49m\n\u001b[32m    943\u001b[39m \u001b[43m        \u001b[49m\u001b[43minclude_incomplete\u001b[49m\u001b[43m=\u001b[49m\u001b[38;5;28;43mself\u001b[39;49m\u001b[43m.\u001b[49m\u001b[43minclude_incomplete\u001b[49m\u001b[43m,\u001b[49m\n\u001b[32m    944\u001b[39m \u001b[43m        \u001b[49m\u001b[43mstart_time\u001b[49m\u001b[43m=\u001b[49m\u001b[38;5;28;43mself\u001b[39;49m\u001b[43m.\u001b[49m\u001b[43mstart_time\u001b[49m\u001b[43m,\u001b[49m\n\u001b[32m    945\u001b[39m \u001b[43m        \u001b[49m\u001b[43mend_time\u001b[49m\u001b[43m=\u001b[49m\u001b[38;5;28;43mself\u001b[39;49m\u001b[43m.\u001b[49m\u001b[43mend_time\u001b[49m\u001b[43m,\u001b[49m\n\u001b[32m    946\u001b[39m \u001b[43m    \u001b[49m\u001b[43m)\u001b[49m\n",
      "\u001b[36mFile \u001b[39m\u001b[32m~/git/liquidstatemachines/venvtorch/lib/python3.12/site-packages/tonic/functional/to_frame.py:63\u001b[39m, in \u001b[36mto_frame_numpy\u001b[39m\u001b[34m(events, sensor_size, time_window, event_count, n_time_bins, n_event_bins, overlap, include_incomplete, start_time, end_time)\u001b[39m\n\u001b[32m     60\u001b[39m         sensor_size = (sensor_size_x, \u001b[32m1\u001b[39m, sensor_size_p)\n\u001b[32m     62\u001b[39m \u001b[38;5;66;03m# test for single polarity\u001b[39;00m\n\u001b[32m---> \u001b[39m\u001b[32m63\u001b[39m \u001b[38;5;28;01mif\u001b[39;00m \u001b[43msensor_size\u001b[49m\u001b[43m[\u001b[49m\u001b[32;43m2\u001b[39;49m\u001b[43m]\u001b[49m == \u001b[32m1\u001b[39m:\n\u001b[32m     64\u001b[39m     \u001b[38;5;28;01mif\u001b[39;00m np.unique(events[\u001b[33m\"\u001b[39m\u001b[33mp\u001b[39m\u001b[33m\"\u001b[39m]).size > \u001b[32m1\u001b[39m:\n\u001b[32m     65\u001b[39m         \u001b[38;5;28;01mraise\u001b[39;00m \u001b[38;5;167;01mValueError\u001b[39;00m(\n\u001b[32m     66\u001b[39m             \u001b[33m\"\u001b[39m\u001b[33mSingle polarity sensor, but events contain both polarities.\u001b[39m\u001b[33m\"\u001b[39m\n\u001b[32m     67\u001b[39m         )\n",
      "\u001b[31mIndexError\u001b[39m: tuple index out of range"
     ]
    }
   ],
   "source": [
    "import tonic\n",
    "from tonic.transforms import ToFrame\n",
    "from torch.utils.data import Subset,Dataset\n",
    "# load dataset and filter only zero to nine number labels from SHD and then transform \n",
    "# binning of total spike counts ( in paper: total spike counts in 1-s bins)\n",
    "transform = tonic.transforms.Compose([\n",
    "    tonic.transforms.Downsample(sensor_size=tonic.datasets.SHD.sensor_size, target_size=(70,)),\n",
    "    tonic.transforms.ToFrame(sensor_size=(70,), n_time_bins=100)\n",
    "])\n",
    "dataset = tonic.datasets.SHD(save_to=\"./data\", train=True)\n",
    "label_range = set(range(0, 10))\n",
    "filtered_indices = [\n",
    "    i for i in range(len(dataset)) if dataset[i][1] in label_range\n",
    "]\n",
    "\n",
    "subset = Subset(dataset, filtered_indices)\n",
    "class TransformedDataset(Dataset):\n",
    "    def __init__(self, dataset, transform):\n",
    "        self.dataset = dataset\n",
    "        self.transform = transform\n",
    "\n",
    "    def __len__(self):\n",
    "        return len(self.dataset)\n",
    "\n",
    "    def __getitem__(self, idx):\n",
    "        events, label = self.dataset[idx]\n",
    "        return self.transform(events), label\n",
    "    \n",
    "transformeddataset=TransformedDataset(subset, transform)"
   ]
  }
 ],
 "metadata": {
  "kernelspec": {
   "display_name": "venvtorch",
   "language": "python",
   "name": "python3"
  },
  "language_info": {
   "codemirror_mode": {
    "name": "ipython",
    "version": 3
   },
   "file_extension": ".py",
   "mimetype": "text/x-python",
   "name": "python",
   "nbconvert_exporter": "python",
   "pygments_lexer": "ipython3",
   "version": "3.12.3"
  }
 },
 "nbformat": 4,
 "nbformat_minor": 5
}
